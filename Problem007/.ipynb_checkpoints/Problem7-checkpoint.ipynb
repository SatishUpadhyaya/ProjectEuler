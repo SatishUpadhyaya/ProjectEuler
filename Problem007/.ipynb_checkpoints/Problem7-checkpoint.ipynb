{
 "cells": [
  {
   "cell_type": "code",
   "execution_count": 29,
   "metadata": {},
   "outputs": [],
   "source": [
    "'''\n",
    "By listing the first six prime numbers: 2, 3, 5, 7, 11, and 13, we can see that the 6th prime is 13.\n",
    "\n",
    "What is the 10001st prime number?\n",
    "'''\n",
    "def isPrime(num):\n",
    "    import math\n",
    "    for i in range(2, int(math.sqrt(num)) + 1):\n",
    "        if(num % i == 0):\n",
    "            return False\n",
    "    return True\n",
    "\n",
    "def ithPrimeNumber(i):\n",
    "    primeNumber = [2, 3]\n",
    "    if(i == 0):\n",
    "        return -1\n",
    "    if(i == 1 or i == 2):\n",
    "        return primeNumber[i - 1]\n",
    "    counter = 1\n",
    "    j = 4\n",
    "    while(counter < i - 1):\n",
    "        if(isPrime(j)):\n",
    "            primeNumber.append(j)\n",
    "            counter += 1\n",
    "        j += 1\n",
    "#     print(primeNumber)\n",
    "    return primeNumber[-1]\n",
    "    "
   ]
  },
  {
   "cell_type": "code",
   "execution_count": 30,
   "metadata": {},
   "outputs": [
    {
     "data": {
      "text/plain": [
       "13"
      ]
     },
     "execution_count": 30,
     "metadata": {},
     "output_type": "execute_result"
    }
   ],
   "source": [
    "ithPrimeNumber(6)"
   ]
  },
  {
   "cell_type": "code",
   "execution_count": 31,
   "metadata": {},
   "outputs": [
    {
     "data": {
      "text/plain": [
       "104743"
      ]
     },
     "execution_count": 31,
     "metadata": {},
     "output_type": "execute_result"
    }
   ],
   "source": [
    "ithPrimeNumber(10001)"
   ]
  },
  {
   "cell_type": "code",
   "execution_count": null,
   "metadata": {},
   "outputs": [],
   "source": []
  }
 ],
 "metadata": {
  "kernelspec": {
   "display_name": "Python 3",
   "language": "python",
   "name": "python3"
  },
  "language_info": {
   "codemirror_mode": {
    "name": "ipython",
    "version": 3
   },
   "file_extension": ".py",
   "mimetype": "text/x-python",
   "name": "python",
   "nbconvert_exporter": "python",
   "pygments_lexer": "ipython3",
   "version": "3.6.5"
  }
 },
 "nbformat": 4,
 "nbformat_minor": 2
}

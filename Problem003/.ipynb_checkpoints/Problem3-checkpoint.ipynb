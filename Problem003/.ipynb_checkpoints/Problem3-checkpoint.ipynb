{
 "cells": [
  {
   "cell_type": "code",
   "execution_count": 30,
   "metadata": {},
   "outputs": [],
   "source": [
    "'''\n",
    "The prime factors of 13195 are 5, 7, 13 and 29.\n",
    "\n",
    "What is the largest prime factor of the number 600851475143?\n",
    "'''\n",
    "from math import sqrt\n",
    "def primeFactor(num):\n",
    "    resList = []\n",
    "    for i in range(2, int(sqrt(num)) + 1):\n",
    "        if(num % i == 0):\n",
    "#             print(\"Num at point p is: \", num)\n",
    "            resList.append(i)\n",
    "            num = int(num / i)\n",
    "#     return resList[-1]\n",
    "    return resList           "
   ]
  },
  {
   "cell_type": "code",
   "execution_count": 31,
   "metadata": {},
   "outputs": [
    {
     "name": "stdout",
     "output_type": "stream",
     "text": [
      "List:  [5, 7, 13, 29]\n",
      "Largest prime factor is:  29\n"
     ]
    }
   ],
   "source": [
    "print(\"List: \", primeFactor(13195))\n",
    "print(\"Largest prime factor is: \", primeFactor(13195).pop())\n"
   ]
  },
  {
   "cell_type": "code",
   "execution_count": 32,
   "metadata": {},
   "outputs": [
    {
     "name": "stdout",
     "output_type": "stream",
     "text": [
      "List:  [71, 839, 1471, 6857]\n",
      "Largest prime factor is:  6857\n"
     ]
    }
   ],
   "source": [
    "print(\"List: \", primeFactor(600851475143))\n",
    "print(\"Largest prime factor is: \", primeFactor(600851475143).pop())"
   ]
  },
  {
   "cell_type": "code",
   "execution_count": null,
   "metadata": {},
   "outputs": [],
   "source": []
  }
 ],
 "metadata": {
  "kernelspec": {
   "display_name": "Python 3",
   "language": "python",
   "name": "python3"
  },
  "language_info": {
   "codemirror_mode": {
    "name": "ipython",
    "version": 3
   },
   "file_extension": ".py",
   "mimetype": "text/x-python",
   "name": "python",
   "nbconvert_exporter": "python",
   "pygments_lexer": "ipython3",
   "version": "3.6.5"
  }
 },
 "nbformat": 4,
 "nbformat_minor": 2
}

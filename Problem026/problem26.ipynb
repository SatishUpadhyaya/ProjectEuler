{
 "cells": [
  {
   "cell_type": "code",
   "execution_count": 26,
   "metadata": {},
   "outputs": [],
   "source": [
    "'''\n",
    "A unit fraction contains 1 in the numerator. The decimal representation of the unit fractions with denominators 2 to 10 are \n",
    "given:\n",
    "\n",
    "1 / 2 = 0.5\n",
    "1 / 3 = 0.(3)\n",
    "1 / 4 = 0.25\n",
    "1 / 5 = 0.2\n",
    "1 / 6 = 0.1(6)\n",
    "1 / 7 = 0.(142857)\n",
    "1 / 8 = 0.125\n",
    "1 / 9 = 0.(1)\n",
    "1 / 10 = 0.1\n",
    "Where 0.1(6) means 0.166666..., and has a 1-digit recurring cycle. It can be seen that 1/7 has a 6-digit recurring cycle.\n",
    "\n",
    "Find the value of d < 1000 for which 1/d contains the longest recurring cycle in its decimal fraction part.\n",
    "'''\n",
    "def reciprocalCycles(lim):\n",
    "    num = 1\n",
    "    recurrCyc = 1\n",
    "    \n",
    "    for i in range(num + 2, lim, 2):\n",
    "        if(not((i % 5) == 0)):\n",
    "            numVal = 1\n",
    "            while(not((10 ** numVal) % i) == 1):\n",
    "                numVal += 1\n",
    "\n",
    "    #         print(numVal)    \n",
    "\n",
    "            if(recurrCyc < numVal):\n",
    "                recurrCyc = numVal\n",
    "                num = i\n",
    "\n",
    "    return num"
   ]
  },
  {
   "cell_type": "code",
   "execution_count": 27,
   "metadata": {},
   "outputs": [
    {
     "data": {
      "text/plain": [
       "7"
      ]
     },
     "execution_count": 27,
     "metadata": {},
     "output_type": "execute_result"
    }
   ],
   "source": [
    "reciprocalCycles(10)"
   ]
  },
  {
   "cell_type": "code",
   "execution_count": 29,
   "metadata": {},
   "outputs": [
    {
     "data": {
      "text/plain": [
       "983"
      ]
     },
     "execution_count": 29,
     "metadata": {},
     "output_type": "execute_result"
    }
   ],
   "source": [
    "reciprocalCycles(1000)"
   ]
  },
  {
   "cell_type": "code",
   "execution_count": null,
   "metadata": {},
   "outputs": [],
   "source": []
  }
 ],
 "metadata": {
  "kernelspec": {
   "display_name": "Python 3",
   "language": "python",
   "name": "python3"
  },
  "language_info": {
   "codemirror_mode": {
    "name": "ipython",
    "version": 3
   },
   "file_extension": ".py",
   "mimetype": "text/x-python",
   "name": "python",
   "nbconvert_exporter": "python",
   "pygments_lexer": "ipython3",
   "version": "3.6.5"
  }
 },
 "nbformat": 4,
 "nbformat_minor": 2
}

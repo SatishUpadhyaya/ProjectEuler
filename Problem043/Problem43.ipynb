{
 "cells": [
  {
   "cell_type": "markdown",
   "metadata": {},
   "source": [
    "<b>Sub-string divisibility</b>\n",
    "\n",
    "The number, 1406357289, is a 0 to 9 pandigital number because it is made up of each of the digits 0 to 9 in some order, but it also has a rather interesting sub-string divisibility property.\n",
    "\n",
    "Let $d_1$ be the $1^{st}$ digit, $d_2$ be the $2^{nd}$ digit, and so on. In this way, we note the following:\n",
    "\n",
    "$d_2d_3d_4 = 406$ is divisible by 2<br>\n",
    "$d_3d_4d_5 = 063$ is divisible by 3<br>\n",
    "$d_4d_5d_6 = 635$ is divisible by 5<br>\n",
    "$d_5d_6d_7 = 357$ is divisible by 7<br>\n",
    "$d_6d_7d_8 = 572$ is divisible by 11<br>\n",
    "$d_7d_8d_9 = 728$ is divisible by 13<br>\n",
    "$d_8d_9d_{10} = 289$ is divisible by 17\n",
    "\n",
    "Find the sum of all 0 to 9 pandigital numbers with this property."
   ]
  },
  {
   "cell_type": "code",
   "execution_count": 22,
   "metadata": {},
   "outputs": [],
   "source": [
    "def checkDivisibility(num):\n",
    "    number = ''.join(map(str, num))\n",
    "    if((int(number[1:4]) % 2 == 0) and (int(number[2:5]) % 3 == 0) and (int(number[3:6]) % 5 == 0) and \\\n",
    "        (int(number[4:7]) % 7 == 0) and (int(number[5:8]) % 11 == 0) and (int(number[6:9]) % 13 == 0) and \\\n",
    "        (int(number[7:10]) % 17 == 0)):\n",
    "        return True\n",
    "    return False"
   ]
  },
  {
   "cell_type": "code",
   "execution_count": 23,
   "metadata": {},
   "outputs": [
    {
     "data": {
      "text/plain": [
       "True"
      ]
     },
     "execution_count": 23,
     "metadata": {},
     "output_type": "execute_result"
    }
   ],
   "source": [
    "checkDivisibility([1,4,0,6,3,5,7,2,8,9])"
   ]
  },
  {
   "cell_type": "code",
   "execution_count": 24,
   "metadata": {},
   "outputs": [],
   "source": [
    "from itertools import permutations\n",
    "\n",
    "def divisibility():\n",
    "    answer = []\n",
    "    listo = [\"0\", \"1\", \"2\", \"3\", \"4\", \"5\", \"6\", \"7\", \"8\", \"9\"] \n",
    "    # 10! permutations: 3628800\n",
    "    perm = permutations(listo) \n",
    "    for i in list(perm): \n",
    "        if(checkDivisibility(i)):\n",
    "            answer.append(i)\n",
    "            \n",
    "    ansComb = []\n",
    "    for i in answer:\n",
    "        an = ''.join(map(str, i))\n",
    "        ansComb.append(int(an))\n",
    "#     print(ansComb)\n",
    "    return sum(ansComb)"
   ]
  },
  {
   "cell_type": "code",
   "execution_count": 25,
   "metadata": {},
   "outputs": [
    {
     "data": {
      "text/plain": [
       "16695334890"
      ]
     },
     "execution_count": 25,
     "metadata": {},
     "output_type": "execute_result"
    }
   ],
   "source": [
    "divisibility()"
   ]
  },
  {
   "cell_type": "code",
   "execution_count": null,
   "metadata": {},
   "outputs": [],
   "source": [
    "16695334890\n"
   ]
  }
 ],
 "metadata": {
  "kernelspec": {
   "display_name": "Python 3",
   "language": "python",
   "name": "python3"
  },
  "language_info": {
   "codemirror_mode": {
    "name": "ipython",
    "version": 3
   },
   "file_extension": ".py",
   "mimetype": "text/x-python",
   "name": "python",
   "nbconvert_exporter": "python",
   "pygments_lexer": "ipython3",
   "version": "3.6.5"
  }
 },
 "nbformat": 4,
 "nbformat_minor": 2
}

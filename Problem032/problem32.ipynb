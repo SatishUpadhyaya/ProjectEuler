{
 "cells": [
  {
   "cell_type": "code",
   "execution_count": 7,
   "metadata": {},
   "outputs": [],
   "source": [
    "'''\n",
    "We shall say that an n-digit number is pandigital if it makes use of all the digits 1 to n exactly once; for example, \n",
    "the 5-digit number, 15234, is 1 through 5 pandigital.\n",
    "\n",
    "The product 7254 is unusual, as the identity, 39 × 186 = 7254, containing multiplicand, multiplier, and product is 1 \n",
    "through 9 pandigital.\n",
    "\n",
    "Find the sum of all products whose multiplicand/multiplier/product identity can be written as a 1 through 9 pandigital.\n",
    "\n",
    "HINT: Some products can be obtained in more than one way so be sure to only include it once in your sum.\n",
    "'''\n",
    "def isPandigital(num):\n",
    "    some = str(num)\n",
    "    numList = []\n",
    "    for i in some:\n",
    "        numList.append(int(i))\n",
    "    numList.sort()\n",
    "#     print(numList)\n",
    "    if(numList[0] != 1 or numList[-1] != 9):\n",
    "        return False\n",
    "    for i in range(0, len(numList) - 1):\n",
    "        if(numList[i + 1] != (numList[i] + 1)):\n",
    "            return False\n",
    "    return True"
   ]
  },
  {
   "cell_type": "code",
   "execution_count": 9,
   "metadata": {},
   "outputs": [],
   "source": [
    "def findProduct(mulOne, mulTwo):\n",
    "    checkNums = str(mulOne) + str(mulTwo) + str(mulOne * mulTwo)\n",
    "    return isPandigital(int(checkNums))"
   ]
  },
  {
   "cell_type": "code",
   "execution_count": 43,
   "metadata": {},
   "outputs": [],
   "source": [
    "def solution():\n",
    "    pandigitalNums = set()\n",
    "    for mulOne in range(0, 10000):\n",
    "        for mulTwo in range(mulOne, 10000):\n",
    "            if((len(str(mulOne) + str(mulTwo) + str(mulOne * mulTwo))) > 9):\n",
    "                break\n",
    "            if(findProduct(mulOne, mulTwo)):\n",
    "                pandigitalNums.add(mulOne * mulTwo)\n",
    "\n",
    "    print(pandigitalNums)\n",
    "    return sum(pandigitalNums)"
   ]
  },
  {
   "cell_type": "code",
   "execution_count": 44,
   "metadata": {},
   "outputs": [
    {
     "name": "stdout",
     "output_type": "stream",
     "text": [
      "{5346, 5796, 6952, 7852, 4396, 7632, 7254}\n"
     ]
    },
    {
     "data": {
      "text/plain": [
       "45228"
      ]
     },
     "execution_count": 44,
     "metadata": {},
     "output_type": "execute_result"
    }
   ],
   "source": [
    "solution()"
   ]
  },
  {
   "cell_type": "code",
   "execution_count": null,
   "metadata": {},
   "outputs": [],
   "source": []
  }
 ],
 "metadata": {
  "kernelspec": {
   "display_name": "Python 3",
   "language": "python",
   "name": "python3"
  },
  "language_info": {
   "codemirror_mode": {
    "name": "ipython",
    "version": 3
   },
   "file_extension": ".py",
   "mimetype": "text/x-python",
   "name": "python",
   "nbconvert_exporter": "python",
   "pygments_lexer": "ipython3",
   "version": "3.6.5"
  }
 },
 "nbformat": 4,
 "nbformat_minor": 2
}

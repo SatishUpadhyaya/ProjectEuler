{
 "cells": [
  {
   "cell_type": "markdown",
   "metadata": {},
   "source": [
    "<b>Prime permutations</b>\n",
    "\n",
    "The arithmetic sequence, 1487, 4817, 8147, in which each of the terms increases by 3330, is unusual in two ways: \n",
    "\n",
    "(i) each of the three terms are prime, and, \n",
    "\n",
    "(ii) each of the 4-digit numbers are permutations of one another.\n",
    "\n",
    "There are no arithmetic sequences made up of three 1-, 2-, or 3-digit primes, exhibiting this property, but there is one other 4-digit increasing sequence.\n",
    "\n",
    "What 12-digit number do you form by concatenating the three terms in this sequence?"
   ]
  },
  {
   "cell_type": "code",
   "execution_count": 1,
   "metadata": {},
   "outputs": [],
   "source": [
    "def isPrime(num):\n",
    "    import math\n",
    "    for i in range(2, int(math.sqrt(abs(num))) + 1):\n",
    "        if(num % i == 0):\n",
    "            return False\n",
    "    return True"
   ]
  },
  {
   "cell_type": "code",
   "execution_count": 2,
   "metadata": {},
   "outputs": [],
   "source": [
    "def primeList():\n",
    "    pL = []\n",
    "    for i in range(1000, 10001):\n",
    "        if(isPrime(i)):\n",
    "            pL.append(i)\n",
    "    return pL"
   ]
  },
  {
   "cell_type": "code",
   "execution_count": 7,
   "metadata": {},
   "outputs": [],
   "source": [
    "def isPerm(ogNum, checkNum):\n",
    "    from itertools import permutations\n",
    "    ogNumList = []\n",
    "    for i in str(ogNum):\n",
    "        ogNumList.append(int(i))\n",
    "    perm = permutations(ogNumList)\n",
    "    \n",
    "    checkNumList = []\n",
    "    for i in str(checkNum):\n",
    "        checkNumList.append(int(i))\n",
    "    \n",
    "    for i in list(perm):\n",
    "        if(i == tuple(checkNumList)):\n",
    "            return True\n",
    "    return False"
   ]
  },
  {
   "cell_type": "code",
   "execution_count": 16,
   "metadata": {},
   "outputs": [],
   "source": [
    "def primePermutations():\n",
    "    answer = 0\n",
    "    pL = primeList()\n",
    "    for i in pL:\n",
    "        for j in pL:\n",
    "            if(i < j):\n",
    "                temp = j + (j - i)\n",
    "                if((temp in pL) and (isPerm(i, j)) and (isPerm(i, temp))):\n",
    "                    answer = int(str(i) + str(j) + str(temp))\n",
    "    return answer"
   ]
  },
  {
   "cell_type": "code",
   "execution_count": 17,
   "metadata": {},
   "outputs": [
    {
     "data": {
      "text/plain": [
       "296962999629"
      ]
     },
     "execution_count": 17,
     "metadata": {},
     "output_type": "execute_result"
    }
   ],
   "source": [
    "primePermutations()"
   ]
  },
  {
   "cell_type": "code",
   "execution_count": null,
   "metadata": {},
   "outputs": [],
   "source": []
  }
 ],
 "metadata": {
  "kernelspec": {
   "display_name": "Python 3",
   "language": "python",
   "name": "python3"
  },
  "language_info": {
   "codemirror_mode": {
    "name": "ipython",
    "version": 3
   },
   "file_extension": ".py",
   "mimetype": "text/x-python",
   "name": "python",
   "nbconvert_exporter": "python",
   "pygments_lexer": "ipython3",
   "version": "3.6.5"
  }
 },
 "nbformat": 4,
 "nbformat_minor": 2
}

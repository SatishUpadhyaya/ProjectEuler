{
 "cells": [
  {
   "cell_type": "markdown",
   "metadata": {},
   "source": [
    "<b>Pandigital Prime</b>\n",
    "\n",
    "We shall say that an n-digit number is pandigital if it makes use of all the digits 1 to n exactly once. For example, 2143 is a 4-digit pandigital and is also prime.\n",
    "\n",
    "What is the largest n-digit pandigital prime that exists?"
   ]
  },
  {
   "cell_type": "code",
   "execution_count": 1,
   "metadata": {},
   "outputs": [],
   "source": [
    "def isPandigital(num):\n",
    "    strNum = str(num)\n",
    "    maxNum = max(strNum)\n",
    "    \n",
    "    numList = []\n",
    "    for i in strNum:\n",
    "        numList.append(int(i))\n",
    "    numList.sort()\n",
    "#     print(numList)\n",
    "    if(numList[0] != 1 or numList[-1] != int(maxNum)):\n",
    "        return False\n",
    "    for i in range(0, len(numList) - 1):\n",
    "        if(numList[i + 1] != (numList[i] + 1)):\n",
    "            return False\n",
    "    return True"
   ]
  },
  {
   "cell_type": "code",
   "execution_count": 2,
   "metadata": {},
   "outputs": [],
   "source": [
    "def isPrime(num):\n",
    "    if(num == 1):\n",
    "        return False\n",
    "    import math\n",
    "    for i in range(2, int(math.sqrt(abs(num))) + 1):\n",
    "        if(num % i == 0):\n",
    "            return False\n",
    "    return True"
   ]
  },
  {
   "cell_type": "code",
   "execution_count": 10,
   "metadata": {},
   "outputs": [],
   "source": [
    "# Possible pandigital prime numbers have length: 1, 4, and 7\n",
    "def pandigitalPrime():\n",
    "    pandigitalPrimeList = []\n",
    "    for i in range(2, 7654322):\n",
    "        if(isPandigital(i) and isPrime(i)):\n",
    "            pandigitalPrimeList.append(i)\n",
    "    return max(pandigitalPrimeList)"
   ]
  },
  {
   "cell_type": "code",
   "execution_count": 11,
   "metadata": {},
   "outputs": [
    {
     "data": {
      "text/plain": [
       "7652413"
      ]
     },
     "execution_count": 11,
     "metadata": {},
     "output_type": "execute_result"
    }
   ],
   "source": [
    "pandigitalPrime()"
   ]
  },
  {
   "cell_type": "code",
   "execution_count": null,
   "metadata": {},
   "outputs": [],
   "source": []
  }
 ],
 "metadata": {
  "kernelspec": {
   "display_name": "Python 3",
   "language": "python",
   "name": "python3"
  },
  "language_info": {
   "codemirror_mode": {
    "name": "ipython",
    "version": 3
   },
   "file_extension": ".py",
   "mimetype": "text/x-python",
   "name": "python",
   "nbconvert_exporter": "python",
   "pygments_lexer": "ipython3",
   "version": "3.6.5"
  }
 },
 "nbformat": 4,
 "nbformat_minor": 2
}

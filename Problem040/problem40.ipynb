{
 "cells": [
  {
   "cell_type": "markdown",
   "metadata": {},
   "source": [
    "Champernowne's constant\n",
    "\n",
    "An irrational decimal fraction is created by concatenating the positive integers:\n",
    "\n",
    "$$0.123456789101112131415161718192021...$$\n",
    "\n",
    "It can be seen that the $12^{th}$ digit of the fractional part is 1.\n",
    "\n",
    "If $d_n$ represents the $n^{th}$ digit of the fractional part, find the value of the following expression.\n",
    "\n",
    "$d_1 × d_{10} × d_{100} × d_{1000} × d_{10000} × d_{100000} × d_{1000000}$"
   ]
  },
  {
   "cell_type": "code",
   "execution_count": 13,
   "metadata": {},
   "outputs": [],
   "source": [
    "def champernownes():\n",
    "    numbers = \"\"\n",
    "\n",
    "    i = 1\n",
    "    while(len(numbers) <= 1000000):\n",
    "        numbers += str(i)\n",
    "        i += 1\n",
    "    \n",
    "    dSubOne = int(numbers[0])\n",
    "    dSubTen = int(numbers[9])\n",
    "    dSubHund = int(numbers[99])\n",
    "    dSubThou = int(numbers[999])\n",
    "    dSubTenThou = int(numbers[9999])\n",
    "    dSubHundThou = int(numbers[99999])\n",
    "    dSubMillion = int(numbers[999999])\n",
    "    \n",
    "    solution = dSubOne * dSubTen * dSubHund * dSubThou * dSubTenThou * dSubHundThou * dSubMillion\n",
    "    return solution"
   ]
  },
  {
   "cell_type": "code",
   "execution_count": 14,
   "metadata": {},
   "outputs": [
    {
     "data": {
      "text/plain": [
       "210"
      ]
     },
     "execution_count": 14,
     "metadata": {},
     "output_type": "execute_result"
    }
   ],
   "source": [
    "champernownes()"
   ]
  },
  {
   "cell_type": "code",
   "execution_count": null,
   "metadata": {},
   "outputs": [],
   "source": []
  }
 ],
 "metadata": {
  "kernelspec": {
   "display_name": "Python 3",
   "language": "python",
   "name": "python3"
  },
  "language_info": {
   "codemirror_mode": {
    "name": "ipython",
    "version": 3
   },
   "file_extension": ".py",
   "mimetype": "text/x-python",
   "name": "python",
   "nbconvert_exporter": "python",
   "pygments_lexer": "ipython3",
   "version": "3.6.5"
  }
 },
 "nbformat": 4,
 "nbformat_minor": 2
}

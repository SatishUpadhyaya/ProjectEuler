{
 "cells": [
  {
   "cell_type": "code",
   "execution_count": 27,
   "metadata": {},
   "outputs": [],
   "source": [
    "'''\n",
    "The fraction 49/98 is a curious fraction, as an inexperienced mathematician in attempting to simplify it may incorrectly \n",
    "believe that 49/98 = 4/8, which is correct, is obtained by cancelling the 9s.\n",
    "\n",
    "We shall consider fractions like, 30/50 = 3/5, to be trivial examples.\n",
    "\n",
    "There are exactly four non-trivial examples of this type of fraction, less than one in value, and containing two digits in the \n",
    "numerator and denominator.\n",
    "\n",
    "If the product of these four fractions is given in its lowest common terms, find the value of the denominator.\n",
    "'''\n",
    "def digitCancellingFracs():\n",
    "    numerator = []\n",
    "    denominator = []\n",
    "    for i in range(1, 10):\n",
    "        for j in range(1, 10):\n",
    "            for k in range(1, 10):\n",
    "                if((j % 10 == 0) or (k % 10 == 0)):\n",
    "                    continue\n",
    "                if((k < j) and ((k * (10 * i + j)) == (j * (10 * k + i)))):\n",
    "                    numerator.append(k)\n",
    "                    denominator.append(j)\n",
    "    \n",
    "    print(numerator)\n",
    "    print(denominator)\n",
    "    \n",
    "    from numpy import prod\n",
    "    productNum = prod(numerator)\n",
    "    productDenom = prod(denominator)\n",
    "    \n",
    "    print(productNum)\n",
    "    print(productDenom)\n",
    "    \n",
    "    solution = int(productDenom / productNum)\n",
    "    return solution"
   ]
  },
  {
   "cell_type": "code",
   "execution_count": 28,
   "metadata": {},
   "outputs": [
    {
     "name": "stdout",
     "output_type": "stream",
     "text": [
      "[1, 2, 1, 4]\n",
      "[4, 5, 5, 8]\n",
      "8\n",
      "800\n"
     ]
    },
    {
     "data": {
      "text/plain": [
       "100"
      ]
     },
     "execution_count": 28,
     "metadata": {},
     "output_type": "execute_result"
    }
   ],
   "source": [
    "digitCancellingFracs()"
   ]
  },
  {
   "cell_type": "code",
   "execution_count": null,
   "metadata": {},
   "outputs": [],
   "source": []
  }
 ],
 "metadata": {
  "kernelspec": {
   "display_name": "Python 3",
   "language": "python",
   "name": "python3"
  },
  "language_info": {
   "codemirror_mode": {
    "name": "ipython",
    "version": 3
   },
   "file_extension": ".py",
   "mimetype": "text/x-python",
   "name": "python",
   "nbconvert_exporter": "python",
   "pygments_lexer": "ipython3",
   "version": "3.6.5"
  }
 },
 "nbformat": 4,
 "nbformat_minor": 2
}

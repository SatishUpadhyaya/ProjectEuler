{
 "cells": [
  {
   "cell_type": "code",
   "execution_count": 1,
   "metadata": {},
   "outputs": [],
   "source": [
    "'''\n",
    "A palindromic number reads the same both ways. The largest palindrome made from the product of two \n",
    "2-digit numbers is 9009 = 91 × 99.\n",
    "\n",
    "Find the largest palindrome made from the product of two 3-digit numbers.\n",
    "'''\n",
    "def isPalindrome(num):\n",
    "    strNum = str(num)\n",
    "    revStrNum = strNum[::-1]\n",
    "    if(strNum == revStrNum):\n",
    "        return True\n",
    "    else:\n",
    "        return False\n",
    "    \n",
    "def largestPalindrome(rangeOne, rangeTwo):\n",
    "    larPalindrome = -1\n",
    "    iVal = -1\n",
    "    jVal = -1\n",
    "    for i in range(rangeOne, rangeTwo + 1):\n",
    "        for j in range(rangeOne, rangeTwo + 1):\n",
    "            numMul = i * j\n",
    "            if((isPalindrome(numMul)) and (numMul > larPalindrome)):\n",
    "                iVal, jVal, larPalindrome = i, j, numMul\n",
    "    return iVal, jVal, larPalindrome\n",
    "               "
   ]
  },
  {
   "cell_type": "code",
   "execution_count": 2,
   "metadata": {},
   "outputs": [
    {
     "name": "stdout",
     "output_type": "stream",
     "text": [
      "Largest palindrome made from the product of two 2-digit numbers is:  91  *  99  =  9009\n"
     ]
    }
   ],
   "source": [
    "retVals = largestPalindrome(10, 99)\n",
    "print(\"Largest palindrome made from the product of two 2-digit numbers is: \", retVals[0], \" * \", retVals[1], \" = \", retVals[2])"
   ]
  },
  {
   "cell_type": "code",
   "execution_count": 3,
   "metadata": {},
   "outputs": [
    {
     "name": "stdout",
     "output_type": "stream",
     "text": [
      "Largest palindrome made from the product of two 3-digit numbers is:  913  *  993  =  906609\n"
     ]
    }
   ],
   "source": [
    "retVals = largestPalindrome(100, 999)\n",
    "print(\"Largest palindrome made from the product of two 3-digit numbers is: \", retVals[0], \" * \", retVals[1], \" = \", retVals[2])"
   ]
  },
  {
   "cell_type": "code",
   "execution_count": null,
   "metadata": {},
   "outputs": [],
   "source": []
  }
 ],
 "metadata": {
  "kernelspec": {
   "display_name": "Python 3",
   "language": "python",
   "name": "python3"
  },
  "language_info": {
   "codemirror_mode": {
    "name": "ipython",
    "version": 3
   },
   "file_extension": ".py",
   "mimetype": "text/x-python",
   "name": "python",
   "nbconvert_exporter": "python",
   "pygments_lexer": "ipython3",
   "version": "3.6.5"
  }
 },
 "nbformat": 4,
 "nbformat_minor": 2
}

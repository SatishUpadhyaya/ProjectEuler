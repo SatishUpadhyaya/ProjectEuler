{
 "cells": [
  {
   "cell_type": "code",
   "execution_count": 9,
   "metadata": {},
   "outputs": [],
   "source": [
    "'''\n",
    "A palindromic number reads the same both ways. The largest palindrome made from the product of two \n",
    "2-digit numbers is 9009 = 91 × 99.\n",
    "\n",
    "Find the largest palindrome made from the product of two 3-digit numbers.\n",
    "'''\n",
    "def isPalindrome(num):\n",
    "    strNum = str(num)\n",
    "    revStrNum = strNum[::-1]\n",
    "    if(strNum == revStrNum):\n",
    "        return True\n",
    "    else:\n",
    "        return False\n",
    "    \n",
    "def largestPalindrome():\n",
    "    larPalindrome = 100\n",
    "    iVal = 0\n",
    "    jVal = 0\n",
    "    for i in range(100, 1000):\n",
    "        for j in range(100, 1000):\n",
    "            numMul = i * j\n",
    "            if(isPalindrome(numMul)):\n",
    "                if(numMul > larPalindrome):\n",
    "                    larPalindrome = numMul\n",
    "                    iVal = i\n",
    "                    jVal = j\n",
    "    return iVal, jVal, larPalindrome\n",
    "               "
   ]
  },
  {
   "cell_type": "code",
   "execution_count": 10,
   "metadata": {},
   "outputs": [
    {
     "name": "stdout",
     "output_type": "stream",
     "text": [
      "Largest three digit palindrome is:  913  *  993  =  906609\n"
     ]
    }
   ],
   "source": [
    "retVals = largestPalindrome()\n",
    "print(\"Largest three digit palindrome is: \", retVals[0], \" * \", retVals[1], \" = \", retVals[2])"
   ]
  },
  {
   "cell_type": "code",
   "execution_count": null,
   "metadata": {},
   "outputs": [],
   "source": []
  }
 ],
 "metadata": {
  "kernelspec": {
   "display_name": "Python 3",
   "language": "python",
   "name": "python3"
  },
  "language_info": {
   "codemirror_mode": {
    "name": "ipython",
    "version": 3
   },
   "file_extension": ".py",
   "mimetype": "text/x-python",
   "name": "python",
   "nbconvert_exporter": "python",
   "pygments_lexer": "ipython3",
   "version": "3.6.5"
  }
 },
 "nbformat": 4,
 "nbformat_minor": 2
}

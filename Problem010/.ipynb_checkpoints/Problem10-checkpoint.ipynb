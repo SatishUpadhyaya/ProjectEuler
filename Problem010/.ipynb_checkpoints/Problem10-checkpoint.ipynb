{
 "cells": [
  {
   "cell_type": "code",
   "execution_count": 1,
   "metadata": {},
   "outputs": [
    {
     "data": {
      "text/plain": [
       "'\\nThe sum of the primes below 10 is 2 + 3 + 5 + 7 = 17.\\n\\nFind the sum of all the primes below two million.\\n'"
      ]
     },
     "execution_count": 1,
     "metadata": {},
     "output_type": "execute_result"
    }
   ],
   "source": [
    "'''\n",
    "The sum of the primes below 10 is 2 + 3 + 5 + 7 = 17.\n",
    "\n",
    "Find the sum of all the primes below two million.\n",
    "'''\n",
    "# def isPrime(num):\n",
    "#     import math\n",
    "#     for i in range(2, int(math.sqrt(num)) + 1):\n",
    "#         if(num % i == 0):\n",
    "#             return False\n",
    "#     return True    \n",
    "    \n",
    "# def primeSum(limit):\n",
    "#     sumPrimes = 0\n",
    "#     for i in range(2, limit):\n",
    "#         if(isPrime(i)):\n",
    "#             sumPrimes += i\n",
    "#     return sumPrimes"
   ]
  },
  {
   "cell_type": "code",
   "execution_count": 2,
   "metadata": {},
   "outputs": [],
   "source": [
    "def SieveOfEratosthenes(limit): \n",
    "    primeList = [True] * (limit + 1)\n",
    "    primeList[0] = False\n",
    "    primeList[1] = False\n",
    "    \n",
    "    num = 2\n",
    "    while(num ** 2 <= limit): \n",
    "        if (primeList[num] == True): \n",
    "            for i in range(num * 2, limit + 1, num): \n",
    "                primeList[i] = False\n",
    "        num += 1\n",
    "      \n",
    "    return primeList"
   ]
  },
  {
   "cell_type": "code",
   "execution_count": 3,
   "metadata": {},
   "outputs": [],
   "source": [
    "def primeSum(limit):\n",
    "    primeList = SieveOfEratosthenes(limit)\n",
    "    sumPrimes = 0\n",
    "    for i in range(0, limit + 1): \n",
    "        if(primeList[i] == True): \n",
    "            sumPrimes += i\n",
    "    return sumPrimes"
   ]
  },
  {
   "cell_type": "code",
   "execution_count": 4,
   "metadata": {},
   "outputs": [
    {
     "data": {
      "text/plain": [
       "17"
      ]
     },
     "execution_count": 4,
     "metadata": {},
     "output_type": "execute_result"
    }
   ],
   "source": [
    "primeSum(10)"
   ]
  },
  {
   "cell_type": "code",
   "execution_count": 5,
   "metadata": {},
   "outputs": [
    {
     "data": {
      "text/plain": [
       "142913828922"
      ]
     },
     "execution_count": 5,
     "metadata": {},
     "output_type": "execute_result"
    }
   ],
   "source": [
    "primeSum(2000000)"
   ]
  },
  {
   "cell_type": "code",
   "execution_count": null,
   "metadata": {},
   "outputs": [],
   "source": []
  }
 ],
 "metadata": {
  "kernelspec": {
   "display_name": "Python 3",
   "language": "python",
   "name": "python3"
  },
  "language_info": {
   "codemirror_mode": {
    "name": "ipython",
    "version": 3
   },
   "file_extension": ".py",
   "mimetype": "text/x-python",
   "name": "python",
   "nbconvert_exporter": "python",
   "pygments_lexer": "ipython3",
   "version": "3.6.5"
  }
 },
 "nbformat": 4,
 "nbformat_minor": 2
}

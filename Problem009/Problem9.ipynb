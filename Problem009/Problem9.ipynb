{
 "cells": [
  {
   "cell_type": "code",
   "execution_count": 11,
   "metadata": {},
   "outputs": [],
   "source": [
    "'''\n",
    "A Pythagorean triplet is a set of three natural numbers, a < b < c, for which,\n",
    "\n",
    "a2 + b2 = c2\n",
    "For example, 32 + 42 = 9 + 16 = 25 = 52.\n",
    "\n",
    "There exists exactly one Pythagorean triplet for which a + b + c = 1000.\n",
    "Find the product abc.\n",
    "'''\n",
    "def isTriplet(i, j, k):\n",
    "    newList = [i, j, k]\n",
    "    newList.sort()\n",
    "    if((newList[0] ** 2) + (newList[1] ** 2) == (newList[2] ** 2)):\n",
    "        return True\n",
    "    return False\n",
    "    \n",
    "def pythagoreanTriplet():\n",
    "    pythagoreanVal = 1\n",
    "    summation = 0\n",
    "    product = 0\n",
    "    for i in range(1, 1000):\n",
    "        for j in range(1, 1000):\n",
    "            for k in range(1, 1000):\n",
    "                summation = i + j + k\n",
    "                product = i * j * k\n",
    "                if(summation == 1000):\n",
    "                    if(isTriplet(i, j, k)):\n",
    "                        return i, j, k, product"
   ]
  },
  {
   "cell_type": "code",
   "execution_count": 14,
   "metadata": {},
   "outputs": [
    {
     "name": "stdout",
     "output_type": "stream",
     "text": [
      "With a =  200 , b =  375 , and c =  425 : a + b + c = 1000 and a^2 + b^2 = c^2 =  31875000\n"
     ]
    }
   ],
   "source": [
    "retList = pythagoreanTriplet()\n",
    "print(\"With a = \", retList[0], \", b = \", retList[1], \", and c = \", retList[2], \": a + b + c = 1000 and a^2 + b^2 = c^2 = \", retList[3])"
   ]
  },
  {
   "cell_type": "code",
   "execution_count": null,
   "metadata": {},
   "outputs": [],
   "source": []
  }
 ],
 "metadata": {
  "kernelspec": {
   "display_name": "Python 3",
   "language": "python",
   "name": "python3"
  },
  "language_info": {
   "codemirror_mode": {
    "name": "ipython",
    "version": 3
   },
   "file_extension": ".py",
   "mimetype": "text/x-python",
   "name": "python",
   "nbconvert_exporter": "python",
   "pygments_lexer": "ipython3",
   "version": "3.6.5"
  }
 },
 "nbformat": 4,
 "nbformat_minor": 2
}

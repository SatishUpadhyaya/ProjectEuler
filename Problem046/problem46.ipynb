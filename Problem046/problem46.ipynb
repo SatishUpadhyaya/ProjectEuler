{
 "cells": [
  {
   "cell_type": "markdown",
   "metadata": {},
   "source": [
    "<b>Goldbach's other conjecture</b>\n",
    "\n",
    "It was proposed by Christian Goldbach that every odd composite number can be written as the sum of a prime and twice a square.\n",
    "\n",
    "$9 = 7 + 2×1^2$<br>\n",
    "$15 = 7 + 2×2^2$<br>\n",
    "$21 = 3 + 2×3^2$<br>\n",
    "$25 = 7 + 2×3^2$<br>\n",
    "$27 = 19 + 2×2^2$<br>\n",
    "$33 = 31 + 2×1^2$<br>\n",
    "\n",
    "It turns out that the conjecture was false.\n",
    "\n",
    "What is the smallest odd composite that cannot be written as the sum of a prime and twice a square?"
   ]
  },
  {
   "cell_type": "markdown",
   "metadata": {},
   "source": [
    "BRUTE FORCE"
   ]
  },
  {
   "cell_type": "code",
   "execution_count": 1,
   "metadata": {},
   "outputs": [],
   "source": [
    "def isPrime(num):\n",
    "    import math\n",
    "    for i in range(2, int(math.sqrt(abs(num))) + 1):\n",
    "        if(num % i == 0):\n",
    "            return False\n",
    "    return True"
   ]
  },
  {
   "cell_type": "code",
   "execution_count": 2,
   "metadata": {},
   "outputs": [],
   "source": [
    "def isOddComposite(num): \n",
    "    if(isPrime(num) or num % 2 == 0):\n",
    "        return False\n",
    "    return True"
   ]
  },
  {
   "cell_type": "code",
   "execution_count": 28,
   "metadata": {},
   "outputs": [],
   "source": [
    "def primeList():\n",
    "    pL = []\n",
    "    for i in range(2, 8001):\n",
    "        if(isPrime(i)):\n",
    "            pL.append(i)\n",
    "    return pL"
   ]
  },
  {
   "cell_type": "code",
   "execution_count": 29,
   "metadata": {},
   "outputs": [],
   "source": [
    "def compositeList():\n",
    "    cL = []\n",
    "    for i in range(3, 8001, 2):\n",
    "        if(isOddComposite(i)):\n",
    "            cL.append(i)\n",
    "    return cL"
   ]
  },
  {
   "cell_type": "code",
   "execution_count": 30,
   "metadata": {},
   "outputs": [],
   "source": [
    "def squareList():\n",
    "    sL = []\n",
    "    for i in range(1, 51):\n",
    "        sL.append(i ** 2)\n",
    "    return sL"
   ]
  },
  {
   "cell_type": "code",
   "execution_count": 31,
   "metadata": {},
   "outputs": [],
   "source": [
    "def goldbachOther():\n",
    "    pL = primeList()\n",
    "    cL = compositeList()\n",
    "    sL = squareList()\n",
    "    num = 15\n",
    "    found = False\n",
    "    for k in cL:\n",
    "        found = False\n",
    "        for i in pL:\n",
    "            for j in sL:\n",
    "                var = i + 2 * j\n",
    "                if(k == var):\n",
    "                    found = True\n",
    "                    break\n",
    "        if(not found):\n",
    "            return k"
   ]
  },
  {
   "cell_type": "code",
   "execution_count": 32,
   "metadata": {},
   "outputs": [
    {
     "data": {
      "text/plain": [
       "5777"
      ]
     },
     "execution_count": 32,
     "metadata": {},
     "output_type": "execute_result"
    }
   ],
   "source": [
    "goldbachOther()"
   ]
  },
  {
   "cell_type": "code",
   "execution_count": null,
   "metadata": {},
   "outputs": [],
   "source": []
  }
 ],
 "metadata": {
  "kernelspec": {
   "display_name": "Python 3",
   "language": "python",
   "name": "python3"
  },
  "language_info": {
   "codemirror_mode": {
    "name": "ipython",
    "version": 3
   },
   "file_extension": ".py",
   "mimetype": "text/x-python",
   "name": "python",
   "nbconvert_exporter": "python",
   "pygments_lexer": "ipython3",
   "version": "3.6.5"
  }
 },
 "nbformat": 4,
 "nbformat_minor": 2
}

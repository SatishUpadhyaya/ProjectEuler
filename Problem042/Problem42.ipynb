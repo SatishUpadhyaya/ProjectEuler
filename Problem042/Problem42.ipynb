{
 "cells": [
  {
   "cell_type": "markdown",
   "metadata": {},
   "source": [
    "<b>Coded triangle numbers</b>\n",
    "\n",
    "The $n^{th}$ term of the sequence of triangle numbers is given by, $t_n$ = ½n(n+1); so the first ten triangle numbers are:\n",
    "\n",
    "1, 3, 6, 10, 15, 21, 28, 36, 45, 55, ...\n",
    "\n",
    "By converting each letter in a word to a number corresponding to its alphabetical position and adding these values we form a word value. For example, the word value for SKY is 19 + 11 + 25 = 55 = $t_{10}$. If the word value is a triangle number then we shall call the word a triangle word.\n",
    "\n",
    "Using words.txt (right click and 'Save Link/Target As...'), a 16K text file containing nearly two-thousand common English words, how many are triangle words?"
   ]
  },
  {
   "cell_type": "code",
   "execution_count": 5,
   "metadata": {},
   "outputs": [],
   "source": [
    "def triangleNumbers():\n",
    "    trNums = []\n",
    "    for i in range(0, 400):\n",
    "        trNums.append(int((0.5 * i) * (i + 1)))\n",
    "    return trNums"
   ]
  },
  {
   "cell_type": "code",
   "execution_count": 12,
   "metadata": {},
   "outputs": [],
   "source": [
    "def codedTriangleNumbers(fileName):\n",
    "    trNums = triangleNumbers()\n",
    "    \n",
    "    firstList = [] \n",
    "    file = open(fileName, \"r\")\n",
    "    store = file.read()\n",
    "    listo = store.split(',')\n",
    "    listo = [i.replace('\"', '') for i in listo] \n",
    "    listo.sort()\n",
    "    \n",
    "    alphabets = {\"A\" :  1, \"B\" :  2, \"C\" :  3, \"D\" :  4, \"E\" :  5, \"F\" :  6, \"G\" :  7, \"H\" :  8, \"I\" :  9, \"J\" : 10, \n",
    "                 \"K\" : 11, \"L\" : 12, \"M\" : 13, \"N\" : 14, \"O\" : 15, \"P\" : 16, \"Q\" : 17, \"R\" : 18, \"S\" : 19, \"T\" : 20, \n",
    "                 \"U\" : 21, \"V\" : 22, \"W\" : 23, \"X\" : 24, \"Y\" : 25, \"Z\" : 26}\n",
    "    \n",
    "    trWords = []\n",
    "    \n",
    "    totalSum = 0\n",
    "    amt = 0\n",
    "    for i in listo:\n",
    "        nameScore = 0\n",
    "        for j in i:\n",
    "            nameScore += alphabets[j]\n",
    "        if(nameScore in trNums):\n",
    "            trWords.append(i)\n",
    "            amt += 1\n",
    "    \n",
    "#     print(trWords)\n",
    "    \n",
    "    return amt"
   ]
  },
  {
   "cell_type": "code",
   "execution_count": 13,
   "metadata": {},
   "outputs": [
    {
     "data": {
      "text/plain": [
       "162"
      ]
     },
     "execution_count": 13,
     "metadata": {},
     "output_type": "execute_result"
    }
   ],
   "source": [
    "codedTriangleNumbers(\"p042_words.txt\")"
   ]
  },
  {
   "cell_type": "code",
   "execution_count": null,
   "metadata": {},
   "outputs": [],
   "source": []
  }
 ],
 "metadata": {
  "kernelspec": {
   "display_name": "Python 3",
   "language": "python",
   "name": "python3"
  },
  "language_info": {
   "codemirror_mode": {
    "name": "ipython",
    "version": 3
   },
   "file_extension": ".py",
   "mimetype": "text/x-python",
   "name": "python",
   "nbconvert_exporter": "python",
   "pygments_lexer": "ipython3",
   "version": "3.6.5"
  }
 },
 "nbformat": 4,
 "nbformat_minor": 2
}

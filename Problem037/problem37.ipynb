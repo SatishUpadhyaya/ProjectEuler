{
 "cells": [
  {
   "cell_type": "markdown",
   "metadata": {},
   "source": [
    "The number 3797 has an interesting property. Being prime itself, it is possible to continuously remove digits from left to right, and remain prime at each stage: 3797, 797, 97, and 7. Similarly we can work from right to left: 3797, 379, 37, and 3.\n",
    "\n",
    "Find the sum of the only eleven primes that are both truncatable from left to right and right to left.\n",
    "\n",
    "NOTE: 2, 3, 5, and 7 are not considered to be truncatable primes."
   ]
  },
  {
   "cell_type": "code",
   "execution_count": 1,
   "metadata": {},
   "outputs": [],
   "source": [
    "def isPrime(num):\n",
    "    if(num == 1):\n",
    "        return False\n",
    "    import math\n",
    "    for i in range(2, int(math.sqrt(abs(num))) + 1):\n",
    "        if(num % i == 0):\n",
    "            return False\n",
    "    return True"
   ]
  },
  {
   "cell_type": "code",
   "execution_count": 14,
   "metadata": {},
   "outputs": [],
   "source": [
    "def truncNum(num):\n",
    "    strNum = str(num)\n",
    "    truncList = set()\n",
    "    truncList.add(num)\n",
    "    for i in range(0, len(strNum)):\n",
    "        tempNum = \"\"\n",
    "        for j in range(i, len(strNum)):\n",
    "            tempNum += strNum[j]\n",
    "        truncList.add(int(tempNum))\n",
    "#     print(truncList)\n",
    "    for i in range(0, len(strNum)):\n",
    "        tempNum = \"\"\n",
    "        for j in range(0, len(strNum) - i):\n",
    "            tempNum += strNum[j]\n",
    "        if(len(tempNum) > 0):\n",
    "            truncList.add(int(tempNum))\n",
    "#     print(truncList)\n",
    "    return truncList"
   ]
  },
  {
   "cell_type": "code",
   "execution_count": 15,
   "metadata": {},
   "outputs": [
    {
     "data": {
      "text/plain": [
       "{3, 7, 37, 97, 379, 797, 3797}"
      ]
     },
     "execution_count": 15,
     "metadata": {},
     "output_type": "execute_result"
    }
   ],
   "source": [
    "truncNum(3797)"
   ]
  },
  {
   "cell_type": "code",
   "execution_count": 23,
   "metadata": {},
   "outputs": [],
   "source": [
    "def truncatablePrimes():\n",
    "    numOfTruncatablePrimes = 0\n",
    "    total = 0\n",
    "    i = 10\n",
    "    \n",
    "    while(numOfTruncatablePrimes < 11):\n",
    "        storeNums = truncNum(i)\n",
    "        allArePrime = True\n",
    "        for j in storeNums:\n",
    "            if(not isPrime(j)):\n",
    "                allArePrime = False\n",
    "                break\n",
    "        if(allArePrime):\n",
    "            print(i)\n",
    "            total += i\n",
    "            numOfTruncatablePrimes += 1\n",
    "        i += 1\n",
    "        \n",
    "    return total"
   ]
  },
  {
   "cell_type": "code",
   "execution_count": 24,
   "metadata": {},
   "outputs": [
    {
     "name": "stdout",
     "output_type": "stream",
     "text": [
      "23\n",
      "37\n",
      "53\n",
      "73\n",
      "313\n",
      "317\n",
      "373\n",
      "797\n",
      "3137\n",
      "3797\n",
      "739397\n"
     ]
    },
    {
     "data": {
      "text/plain": [
       "748317"
      ]
     },
     "execution_count": 24,
     "metadata": {},
     "output_type": "execute_result"
    }
   ],
   "source": [
    "truncatablePrimes()"
   ]
  },
  {
   "cell_type": "code",
   "execution_count": null,
   "metadata": {},
   "outputs": [],
   "source": []
  }
 ],
 "metadata": {
  "kernelspec": {
   "display_name": "Python 3",
   "language": "python",
   "name": "python3"
  },
  "language_info": {
   "codemirror_mode": {
    "name": "ipython",
    "version": 3
   },
   "file_extension": ".py",
   "mimetype": "text/x-python",
   "name": "python",
   "nbconvert_exporter": "python",
   "pygments_lexer": "ipython3",
   "version": "3.6.5"
  }
 },
 "nbformat": 4,
 "nbformat_minor": 2
}

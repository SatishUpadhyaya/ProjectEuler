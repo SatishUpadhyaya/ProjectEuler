{
 "cells": [
  {
   "cell_type": "markdown",
   "metadata": {},
   "source": [
    "The number, 197, is called a circular prime because all rotations of the digits: 197, 971, and 719, are themselves prime.\n",
    "\n",
    "There are thirteen such primes below 100: 2, 3, 5, 7, 11, 13, 17, 31, 37, 71, 73, 79, and 97.\n",
    "\n",
    "How many circular primes are there below one million?"
   ]
  },
  {
   "cell_type": "code",
   "execution_count": 1,
   "metadata": {},
   "outputs": [],
   "source": [
    "def isPrime(num):\n",
    "    import math\n",
    "    for i in range(2, int(math.sqrt(abs(num))) + 1):\n",
    "        if(num % i == 0):\n",
    "            return False\n",
    "    return True"
   ]
  },
  {
   "cell_type": "code",
   "execution_count": 50,
   "metadata": {},
   "outputs": [],
   "source": [
    "def circularNum(ogNum):\n",
    "    lenNum = len(str(ogNum))  \n",
    "\n",
    "    if(lenNum == 1):\n",
    "        return [ogNum]\n",
    "    elif(lenNum == 2):\n",
    "        return [ogNum, int(str(ogNum)[::-1])]\n",
    "    else:\n",
    "        circulars = [ogNum]\n",
    "        strOgNum = str(ogNum)\n",
    "        for i in range(lenNum - 1):\n",
    "            strOgNum = strOgNum[1:] + strOgNum[0]\n",
    "            tempNum = int(strOgNum)\n",
    "            if(tempNum == ogNum):\n",
    "                continue\n",
    "            circulars.append(int(strOgNum))\n",
    "        return circulars"
   ]
  },
  {
   "cell_type": "code",
   "execution_count": 54,
   "metadata": {},
   "outputs": [],
   "source": [
    "def circularPrimes(lim):\n",
    "    totalCircularPrimes = 0\n",
    "    primes = []\n",
    "    for i in range(2, lim + 1):\n",
    "        numbers = circularNum(i)\n",
    "        tempBool = True\n",
    "        for j in numbers:\n",
    "            if(isPrime(j) == False):\n",
    "                tempBool = False\n",
    "                break\n",
    "        if(tempBool == True):\n",
    "            totalCircularPrimes += 1\n",
    "            primes.append(j)\n",
    "        \n",
    "    return totalCircularPrimes   "
   ]
  },
  {
   "cell_type": "code",
   "execution_count": 55,
   "metadata": {},
   "outputs": [
    {
     "data": {
      "text/plain": [
       "13"
      ]
     },
     "execution_count": 55,
     "metadata": {},
     "output_type": "execute_result"
    }
   ],
   "source": [
    "circularPrimes(100)"
   ]
  },
  {
   "cell_type": "code",
   "execution_count": 56,
   "metadata": {},
   "outputs": [
    {
     "data": {
      "text/plain": [
       "55"
      ]
     },
     "execution_count": 56,
     "metadata": {},
     "output_type": "execute_result"
    }
   ],
   "source": [
    "circularPrimes(1000000)"
   ]
  },
  {
   "cell_type": "code",
   "execution_count": null,
   "metadata": {},
   "outputs": [],
   "source": []
  }
 ],
 "metadata": {
  "kernelspec": {
   "display_name": "Python 3",
   "language": "python",
   "name": "python3"
  },
  "language_info": {
   "codemirror_mode": {
    "name": "ipython",
    "version": 3
   },
   "file_extension": ".py",
   "mimetype": "text/x-python",
   "name": "python",
   "nbconvert_exporter": "python",
   "pygments_lexer": "ipython3",
   "version": "3.6.5"
  }
 },
 "nbformat": 4,
 "nbformat_minor": 2
}

{
 "cells": [
  {
   "cell_type": "code",
   "execution_count": 32,
   "metadata": {},
   "outputs": [],
   "source": [
    "'''\n",
    "You are given the following information, but you may prefer to do some research for yourself.\n",
    "\n",
    "1 Jan 1900 was a Monday.\n",
    "Thirty days has September,\n",
    "April, June and November.\n",
    "All the rest have thirty-one,\n",
    "Saving February alone,\n",
    "Which has twenty-eight, rain or shine.\n",
    "And on leap years, twenty-nine.\n",
    "A leap year occurs on any year evenly divisible by 4, but not on a century unless it is divisible by 400.\n",
    "How many Sundays fell on the first of the month during the twentieth century (1 Jan 1901 to 31 Dec 2000)?\n",
    "'''\n",
    "\n",
    "def countingSundays(startingYear, endingYear):\n",
    "    days = 0 # days in a month\n",
    "    week = 0 # week var, that increments sundaysCounter per week\n",
    "    sundaysCounter = 0\n",
    "    \n",
    "    for i in range(startingYear, endingYear + 1):\n",
    "        for j in range(1, 13):\n",
    "            if((i % 400 == 0 or (i % 4 == 0 and (not(i % 100 == 0)))) and j == 2):\n",
    "                # Leap Years -> 29 days in February\n",
    "                days = 29\n",
    "            elif(j == 1 or j == 3 or j == 5 or j == 7 or j == 8 or j == 10 or j == 12):\n",
    "                # January, March, May, July, August, October, December -> 31 days \n",
    "                days = 31\n",
    "            elif(j == 2):\n",
    "                # February -> 28 days\n",
    "                days = 28\n",
    "            elif(j == 4 or j == 6 or j == 9 or j == 11):\n",
    "                # April, June, September, November -> 30 days\n",
    "                days = 30\n",
    "                \n",
    "            if(week % 7 == 0):\n",
    "                sundaysCounter += 1 # increment every week\n",
    "            week += days\n",
    "    return sundaysCounter"
   ]
  },
  {
   "cell_type": "code",
   "execution_count": 33,
   "metadata": {},
   "outputs": [
    {
     "data": {
      "text/plain": [
       "171"
      ]
     },
     "execution_count": 33,
     "metadata": {},
     "output_type": "execute_result"
    }
   ],
   "source": [
    "startingYear = 1901\n",
    "endingYear = 2000\n",
    "countingSundays(startingYear, endingYear)"
   ]
  },
  {
   "cell_type": "code",
   "execution_count": null,
   "metadata": {},
   "outputs": [],
   "source": []
  }
 ],
 "metadata": {
  "kernelspec": {
   "display_name": "Python 3",
   "language": "python",
   "name": "python3"
  },
  "language_info": {
   "codemirror_mode": {
    "name": "ipython",
    "version": 3
   },
   "file_extension": ".py",
   "mimetype": "text/x-python",
   "name": "python",
   "nbconvert_exporter": "python",
   "pygments_lexer": "ipython3",
   "version": "3.6.5"
  }
 },
 "nbformat": 4,
 "nbformat_minor": 2
}

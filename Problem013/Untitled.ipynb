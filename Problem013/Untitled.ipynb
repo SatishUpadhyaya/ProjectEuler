{
 "cells": [
  {
   "cell_type": "code",
   "execution_count": 15,
   "metadata": {},
   "outputs": [],
   "source": [
    "'''\n",
    "Large Sum\n",
    "Work out the first ten digits of the sum of the following one-hundred 50-digit numbers.\n",
    "\n",
    "numbers.txt\n",
    "'''\n",
    "def largeSum():\n",
    "    numList = []\n",
    "    largeSum = 0\n",
    "    with open(\"numbers.txt\", \"r\") as file:\n",
    "        for line in file:\n",
    "            numList.append(line)\n",
    "     \n",
    "    for num in numList:\n",
    "        largeSum += int(num)\n",
    "    \n",
    "    largeSum = str(largeSum)\n",
    "    return largeSum[0:10]"
   ]
  },
  {
   "cell_type": "code",
   "execution_count": 16,
   "metadata": {},
   "outputs": [
    {
     "name": "stdout",
     "output_type": "stream",
     "text": [
      "5537376230\n"
     ]
    }
   ],
   "source": [
    "print(largeSum())"
   ]
  },
  {
   "cell_type": "code",
   "execution_count": null,
   "metadata": {},
   "outputs": [],
   "source": []
  }
 ],
 "metadata": {
  "kernelspec": {
   "display_name": "Python 3",
   "language": "python",
   "name": "python3"
  },
  "language_info": {
   "codemirror_mode": {
    "name": "ipython",
    "version": 3
   },
   "file_extension": ".py",
   "mimetype": "text/x-python",
   "name": "python",
   "nbconvert_exporter": "python",
   "pygments_lexer": "ipython3",
   "version": "3.6.5"
  }
 },
 "nbformat": 4,
 "nbformat_minor": 2
}

{
 "cells": [
  {
   "cell_type": "code",
   "execution_count": 41,
   "metadata": {},
   "outputs": [],
   "source": [
    "'''\n",
    "Euler discovered the remarkable quadratic formula:\n",
    "\n",
    "n^2+n+41\n",
    "It turns out that the formula will produce 40 primes for the consecutive integer values 0≤n≤39. However, when \n",
    "n=40,40^2+40+41=40(40+1)+41 is divisible by 41, and certainly when n=41,41^2+41+41 is clearly divisible by 41.\n",
    "\n",
    "The incredible formula n^2−79n+1601 was discovered, which produces 80 primes for the consecutive values 0≤n≤79. The product of \n",
    "the coefficients, −79 and 1601, is −126479.\n",
    "\n",
    "Considering quadratics of the form:\n",
    "\n",
    "n2+an+b, where |a|<1000 and |b|≤1000\n",
    "\n",
    "where |n| is the modulus/absolute value of n\n",
    "e.g. |11|=11 and |−4|=4\n",
    "Find the product of the coefficients, a and b, for the quadratic expression that produces the maximum number of primes for \n",
    "consecutive values of n, starting with n=0.\n",
    "'''\n",
    "def isPrime(num):\n",
    "    import math\n",
    "    for i in range(2, int(math.sqrt(abs(num))) + 1):\n",
    "        if(num % i == 0):\n",
    "            return False\n",
    "    return True\n",
    "\n",
    "def calc(a, b , c):\n",
    "    return (a * c) + (c ** 2) + b\n",
    "\n",
    "def quadraticPrimes():\n",
    "    maxI = 0\n",
    "    maxJ = 0\n",
    "    maxK = 0\n",
    "    for i in range(-1000,1001):\n",
    "        for j in range(0, 1001):\n",
    "            k = 0\n",
    "            num = 0\n",
    "            if(not((j < maxK) or (j < (-1600 - (40 * i))))): \n",
    "                while(isPrime(calc(i, j, num))):\n",
    "                    k += 1\n",
    "                    num += 1\n",
    "                if(k > maxK):\n",
    "                    maxI = i\n",
    "                    maxJ = j\n",
    "                    maxK = k\n",
    "\n",
    "    return maxI * maxJ"
   ]
  },
  {
   "cell_type": "code",
   "execution_count": 42,
   "metadata": {},
   "outputs": [
    {
     "data": {
      "text/plain": [
       "-59231"
      ]
     },
     "execution_count": 42,
     "metadata": {},
     "output_type": "execute_result"
    }
   ],
   "source": [
    "quadraticPrimes()"
   ]
  },
  {
   "cell_type": "code",
   "execution_count": null,
   "metadata": {},
   "outputs": [],
   "source": []
  }
 ],
 "metadata": {
  "kernelspec": {
   "display_name": "Python 3",
   "language": "python",
   "name": "python3"
  },
  "language_info": {
   "codemirror_mode": {
    "name": "ipython",
    "version": 3
   },
   "file_extension": ".py",
   "mimetype": "text/x-python",
   "name": "python",
   "nbconvert_exporter": "python",
   "pygments_lexer": "ipython3",
   "version": "3.6.5"
  }
 },
 "nbformat": 4,
 "nbformat_minor": 2
}

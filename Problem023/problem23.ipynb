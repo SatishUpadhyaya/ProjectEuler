{
 "cells": [
  {
   "cell_type": "code",
   "execution_count": 32,
   "metadata": {},
   "outputs": [],
   "source": [
    "'''\n",
    "A perfect number is a number for which the sum of its proper divisors is exactly equal to the number. For example, the sum of \n",
    "the proper divisors of 28 would be 1 + 2 + 4 + 7 + 14 = 28, which means that 28 is a perfect number.\n",
    "\n",
    "A number n is called deficient if the sum of its proper divisors is less than n and it is called abundant if this sum exceeds n.\n",
    "\n",
    "As 12 is the smallest abundant number, 1 + 2 + 3 + 4 + 6 = 16, the smallest number that can be written as the sum of two \n",
    "abundant numbers is 24. By mathematical analysis, it can be shown that all integers greater than 28123 can be written as the \n",
    "sum of two abundant numbers. However, this upper limit cannot be reduced any further by analysis even though it is known that \n",
    "the greatest number that cannot be expressed as the sum of two abundant numbers is less than this limit.\n",
    "\n",
    "Find the sum of all the positive integers which cannot be written as the sum of two abundant numbers.\n",
    "'''\n",
    "def properDivisorsSum(num):\n",
    "    from math import sqrt\n",
    "    divisorsList = set()\n",
    "    divisorsList.add(1)\n",
    "    for i in range(2, int(sqrt(num)) + 1):\n",
    "        if(num % i == 0):\n",
    "            divisorsList.add(i)\n",
    "            divisorsList.add(num / i)\n",
    "\n",
    "    return int(sum(divisorsList))\n",
    "\n",
    "def nonAbundantSums(num):\n",
    "    abundantNums = []\n",
    "    for i in range(1, num + 1):\n",
    "        if(properDivisorsSum(i) > i):\n",
    "            abundantNums.append(i)\n",
    "    \n",
    "    abundantNumsSum = set()\n",
    "    for i in abundantNums:\n",
    "        for j in abundantNums:\n",
    "            summ = i + j\n",
    "            if(summ < num):\n",
    "                abundantNumsSum.add(summ)\n",
    "    \n",
    "    nonAbundantSum = 0\n",
    "    \n",
    "    for i in range(1, num):\n",
    "        if i not in abundantNumsSum:\n",
    "            nonAbundantSum += i\n",
    "    \n",
    "    return nonAbundantSum"
   ]
  },
  {
   "cell_type": "code",
   "execution_count": 33,
   "metadata": {},
   "outputs": [
    {
     "data": {
      "text/plain": [
       "4179871"
      ]
     },
     "execution_count": 33,
     "metadata": {},
     "output_type": "execute_result"
    }
   ],
   "source": [
    "nonAbundantSums(28123)"
   ]
  },
  {
   "cell_type": "code",
   "execution_count": null,
   "metadata": {},
   "outputs": [],
   "source": []
  }
 ],
 "metadata": {
  "kernelspec": {
   "display_name": "Python 3",
   "language": "python",
   "name": "python3"
  },
  "language_info": {
   "codemirror_mode": {
    "name": "ipython",
    "version": 3
   },
   "file_extension": ".py",
   "mimetype": "text/x-python",
   "name": "python",
   "nbconvert_exporter": "python",
   "pygments_lexer": "ipython3",
   "version": "3.6.5"
  }
 },
 "nbformat": 4,
 "nbformat_minor": 2
}

{
 "cells": [
  {
   "cell_type": "markdown",
   "metadata": {},
   "source": [
    "The decimal number, 585 = 1001001001 (binary), is palindromic in both bases.\n",
    "\n",
    "Find the sum of all numbers, less than one million, which are palindromic in base 10 and base 2.\n",
    "\n",
    "(Please note that the palindromic number, in either base, may not include leading zeros.)"
   ]
  },
  {
   "cell_type": "code",
   "execution_count": 23,
   "metadata": {},
   "outputs": [],
   "source": [
    "def decToBin(num):\n",
    "    binList = []\n",
    "    while(True):\n",
    "        if((num == 0) or (num == 1)):\n",
    "            if(num == 0):\n",
    "                binList.append(0)\n",
    "            else:\n",
    "                binList.append(1)\n",
    "            break\n",
    "        if(num % 2 == 1):\n",
    "            binList.append(1)\n",
    "            num = (int)((num - 1) / 2)\n",
    "        else:\n",
    "            binList.append(0)\n",
    "            num = (int)(num / 2)\n",
    "    binList = binList[::-1]\n",
    "    binNum = ''.join(map(str, binList))\n",
    "    return int(binNum)"
   ]
  },
  {
   "cell_type": "code",
   "execution_count": 2,
   "metadata": {},
   "outputs": [],
   "source": [
    "def isPalindromic(num):\n",
    "    strNum = str(num)\n",
    "    revStrNum = strNum[::-1]\n",
    "    if(strNum == revStrNum):\n",
    "        return True\n",
    "    else:\n",
    "        return False"
   ]
  },
  {
   "cell_type": "code",
   "execution_count": 27,
   "metadata": {},
   "outputs": [],
   "source": [
    "def doubleBasePalindrome(lim):\n",
    "    total = 0 \n",
    "    for i in range(1, lim + 1):\n",
    "        if(isPalindromic(i) and isPalindromic(decToBin(i))):\n",
    "            total += i\n",
    "    return total"
   ]
  },
  {
   "cell_type": "code",
   "execution_count": 28,
   "metadata": {},
   "outputs": [
    {
     "data": {
      "text/plain": [
       "872187"
      ]
     },
     "execution_count": 28,
     "metadata": {},
     "output_type": "execute_result"
    }
   ],
   "source": [
    "doubleBasePalindrome(1000000)"
   ]
  },
  {
   "cell_type": "code",
   "execution_count": null,
   "metadata": {},
   "outputs": [],
   "source": []
  }
 ],
 "metadata": {
  "kernelspec": {
   "display_name": "Python 3",
   "language": "python",
   "name": "python3"
  },
  "language_info": {
   "codemirror_mode": {
    "name": "ipython",
    "version": 3
   },
   "file_extension": ".py",
   "mimetype": "text/x-python",
   "name": "python",
   "nbconvert_exporter": "python",
   "pygments_lexer": "ipython3",
   "version": "3.6.5"
  }
 },
 "nbformat": 4,
 "nbformat_minor": 2
}

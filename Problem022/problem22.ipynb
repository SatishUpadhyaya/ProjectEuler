{
 "cells": [
  {
   "cell_type": "code",
   "execution_count": 11,
   "metadata": {},
   "outputs": [],
   "source": [
    "'''\n",
    "Using names.txt (right click and 'Save Link/Target As...'), a 46K text file containing over five-thousand first names, begin by \n",
    "sorting it into alphabetical order. Then working out the alphabetical value for each name, multiply this value by its \n",
    "alphabetical position in the list to obtain a name score.\n",
    "\n",
    "For example, when the list is sorted into alphabetical order, COLIN, which is worth 3 + 15 + 12 + 9 + 14 = 53, is the 938th \n",
    "name in the list. So, COLIN would obtain a score of 938 × 53 = 49714.\n",
    "\n",
    "What is the total of all the name scores in the file?\n",
    "'''\n",
    "def namesScores(fileName):\n",
    "    firstList = [] \n",
    "    file = open(fileName, \"r\")\n",
    "    store = file.read()\n",
    "    listo = store.split(',')\n",
    "    listo = [i.replace('\"', '') for i in listo] \n",
    "    listo.sort()\n",
    "    \n",
    "    alphabets = {\"A\" :  1, \"B\" :  2, \"C\" :  3, \"D\" :  4, \"E\" :  5, \"F\" :  6, \"G\" :  7, \"H\" :  8, \"I\" :  9, \"J\" : 10, \n",
    "                 \"K\" : 11, \"L\" : 12, \"M\" : 13, \"N\" : 14, \"O\" : 15, \"P\" : 16, \"Q\" : 17, \"R\" : 18, \"S\" : 19, \"T\" : 20, \n",
    "                 \"U\" : 21, \"V\" : 22, \"W\" : 23, \"X\" : 24, \"Y\" : 25, \"Z\" : 26}\n",
    "    \n",
    "    totalSum = 0\n",
    "    index = 1\n",
    "    for i in listo:\n",
    "        nameScore = 0\n",
    "        for j in i:\n",
    "            nameScore += alphabets[j]\n",
    "        totalSum += (nameScore * index)\n",
    "        index += 1\n",
    "    \n",
    "    return totalSum"
   ]
  },
  {
   "cell_type": "code",
   "execution_count": 12,
   "metadata": {},
   "outputs": [
    {
     "data": {
      "text/plain": [
       "871198282"
      ]
     },
     "execution_count": 12,
     "metadata": {},
     "output_type": "execute_result"
    }
   ],
   "source": [
    "namesScores(\"names.txt\")"
   ]
  },
  {
   "cell_type": "code",
   "execution_count": null,
   "metadata": {},
   "outputs": [],
   "source": []
  }
 ],
 "metadata": {
  "kernelspec": {
   "display_name": "Python 3",
   "language": "python",
   "name": "python3"
  },
  "language_info": {
   "codemirror_mode": {
    "name": "ipython",
    "version": 3
   },
   "file_extension": ".py",
   "mimetype": "text/x-python",
   "name": "python",
   "nbconvert_exporter": "python",
   "pygments_lexer": "ipython3",
   "version": "3.6.5"
  }
 },
 "nbformat": 4,
 "nbformat_minor": 2
}

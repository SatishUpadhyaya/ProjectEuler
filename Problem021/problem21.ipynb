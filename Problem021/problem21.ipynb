{
 "cells": [
  {
   "cell_type": "code",
   "execution_count": 1,
   "metadata": {},
   "outputs": [],
   "source": [
    "'''\n",
    "Let d(n) be defined as the sum of proper divisors of n (numbers less than n which divide evenly into n).\n",
    "If d(a) = b and d(b) = a, where a ≠ b, then a and b are an amicable pair and each of a and b are called amicable numbers.\n",
    "\n",
    "For example, the proper divisors of 220 are 1, 2, 4, 5, 10, 11, 20, 22, 44, 55 and 110; therefore d(220) = 284. The proper\n",
    "divisors of 284 are 1, 2, 4, 71 and 142; so d(284) = 220.\n",
    "\n",
    "Evaluate the sum of all the amicable numbers under 10000.\n",
    "'''\n",
    "\n",
    "def properDivisors(num):\n",
    "    from math import sqrt\n",
    "    divSum = 1\n",
    "    for i in range(2, int(sqrt(num))):\n",
    "        if(num % i == 0):\n",
    "            divSum += i\n",
    "            divSum += (num / i)\n",
    "    return int(divSum)\n",
    "\n",
    "def amicableNumbers(num):\n",
    "    amiNumList = set()\n",
    "    \n",
    "    for i in range(220, num + 1):\n",
    "        for j in range(220, num + 1):\n",
    "            divOne = properDivisors(i)\n",
    "            divTwo = properDivisors(j)\n",
    "            \n",
    "            if(divOne == j and (i != j) and divTwo == i):\n",
    "                amiNumList.add(divOne)\n",
    "                amiNumList.add(i)\n",
    "                \n",
    "    print(amiNumList)\n",
    "    amiSum = 0\n",
    "    for i in amiNumList:\n",
    "        if(i < num):\n",
    "            amiSum += i\n",
    "    return amiSum"
   ]
  },
  {
   "cell_type": "code",
   "execution_count": 2,
   "metadata": {},
   "outputs": [
    {
     "name": "stdout",
     "output_type": "stream",
     "text": [
      "{1184, 6368, 5564, 5020, 2924, 284, 6232, 1210, 220, 2620}\n"
     ]
    },
    {
     "data": {
      "text/plain": [
       "31626"
      ]
     },
     "execution_count": 2,
     "metadata": {},
     "output_type": "execute_result"
    }
   ],
   "source": [
    "amicableNumbers(10000)"
   ]
  },
  {
   "cell_type": "code",
   "execution_count": null,
   "metadata": {},
   "outputs": [],
   "source": []
  }
 ],
 "metadata": {
  "kernelspec": {
   "display_name": "Python 3",
   "language": "python",
   "name": "python3"
  },
  "language_info": {
   "codemirror_mode": {
    "name": "ipython",
    "version": 3
   },
   "file_extension": ".py",
   "mimetype": "text/x-python",
   "name": "python",
   "nbconvert_exporter": "python",
   "pygments_lexer": "ipython3",
   "version": "3.6.5"
  }
 },
 "nbformat": 4,
 "nbformat_minor": 2
}

{
 "cells": [
  {
   "cell_type": "code",
   "execution_count": 139,
   "metadata": {},
   "outputs": [],
   "source": [
    "'''\n",
    "Number letter counts\n",
    "If the numbers 1 to 5 are written out in words: one, two, three, four, five, then there are 3 + 3 + 5 + 4 + 4 = 19 letters used \n",
    "in total.\n",
    "\n",
    "If all the numbers from 1 to 1000 (one thousand) inclusive were written out in words, how many letters would be used?\n",
    "\n",
    "\n",
    "NOTE: Do not count spaces or hyphens. For example, 342 (three hundred and forty-two) contains 23 letters and 115 \n",
    "(one hundred and fifteen) contains 20 letters. The use of \"and\" when writing out numbers is in compliance with British usage.\n",
    "'''\n",
    "def convertToSent(number):\n",
    "    myDict = {1:\"one\", 2:\"two\", 3:\"three\", 4:\"four\", 5:\"five\", 6:\"six\", 7:\"seven\", 8:\"eight\", 9:\"nine\"}\n",
    "    myDictZeros = {2:\"twenty \", 3:\"thirty \", 4:\"forty \", 5:\"fifty \", 6:\"sixty \", 7:\"seventy \", 8:\"eighty \", 9:\"ninety \"}\n",
    "    myDictTens = {10:\"ten\", 11:\"eleven\", 12:\"twelve\", 13:\"thirteen\", 14:\"fourteen\", 15:\"fifteen\", 16:\"sixteen\", 17:\"seventeen\", 18:\"eighteen\", 19:\"nineteen\"}\n",
    "    sent = \"\"\n",
    "    num = number\n",
    "    if(len(str(num)) == 4):\n",
    "        sent += myDict[int(str(num)[0])] + \" thousand \"\n",
    "        num = int(str(num)[1::])\n",
    "    if(len(str(num)) == 3):\n",
    "        sent += myDict[int(str(num)[0])] + \" hundred \"\n",
    "        num = int(str(num)[1::])\n",
    "    if(not((len(str(number)) == 4 and str(number)[1::] == \"000\") or ((len(str(number)) == 3 and str(number)[1::] == \"00\")) or len(str(number)) == 2 or len(str(number)) == 1)):\n",
    "        sent += \"and \"\n",
    "    if(len(str(num)) == 2):\n",
    "        if(int(str(num)) in myDictTens):\n",
    "            sent += myDictTens[int(str(num))]\n",
    "            return sent\n",
    "        sent += myDictZeros[int(str(num)[0])]\n",
    "        num = int(str(num)[1::])\n",
    "    if(len(str(num)) == 1):\n",
    "        if(num != 0):\n",
    "            sent += myDict[int(str(num)[0])]\n",
    "    return sent"
   ]
  },
  {
   "cell_type": "code",
   "execution_count": 140,
   "metadata": {},
   "outputs": [],
   "source": [
    "def numberLetterCount(maxRange):\n",
    "    word = \"\"\n",
    "    numCounter = 0\n",
    "    for i in range(1, maxRange + 1):\n",
    "        word += convertToSent(i)\n",
    "    for i in word:\n",
    "        if(i != \" \"):\n",
    "            numCounter += 1\n",
    "    return numCounter"
   ]
  },
  {
   "cell_type": "code",
   "execution_count": 141,
   "metadata": {},
   "outputs": [
    {
     "data": {
      "text/plain": [
       "21124"
      ]
     },
     "execution_count": 141,
     "metadata": {},
     "output_type": "execute_result"
    }
   ],
   "source": [
    "numberLetterCount(1000)"
   ]
  },
  {
   "cell_type": "code",
   "execution_count": null,
   "metadata": {},
   "outputs": [],
   "source": []
  }
 ],
 "metadata": {
  "kernelspec": {
   "display_name": "Python 3",
   "language": "python",
   "name": "python3"
  },
  "language_info": {
   "codemirror_mode": {
    "name": "ipython",
    "version": 3
   },
   "file_extension": ".py",
   "mimetype": "text/x-python",
   "name": "python",
   "nbconvert_exporter": "python",
   "pygments_lexer": "ipython3",
   "version": "3.6.5"
  }
 },
 "nbformat": 4,
 "nbformat_minor": 2
}

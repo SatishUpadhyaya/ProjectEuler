{
 "cells": [
  {
   "cell_type": "markdown",
   "metadata": {},
   "source": [
    "If p is the perimeter of a right angle triangle with integral length sides, {a,b,c}, there are exactly three solutions for p = 120.\n",
    "\n",
    "{20,48,52}, {24,45,51}, {30,40,50}\n",
    "\n",
    "For which value of p ≤ 1000, is the number of solutions maximised?"
   ]
  },
  {
   "cell_type": "markdown",
   "metadata": {},
   "source": [
    "Equations:\n",
    "$$a^2 + b^2 = c^2$$\n",
    "$$(a + b + c) = p$$\n",
    "\n",
    "solve:\n",
    "$$c = p - a - b$$\n",
    "$$a^2 + b^2 = (p - a - b)^2$$\n",
    "$$p^2 + a^2 + b^2 - 2pa \\; – 2pb + 2ab$$\n",
    "$$b = (p^2 - 2pa) \\; / \\; (2p - 2a) $$"
   ]
  },
  {
   "cell_type": "code",
   "execution_count": 3,
   "metadata": {},
   "outputs": [],
   "source": [
    "def rightTriangles(lim):\n",
    "    largestPer = 0\n",
    "    maxSolutions = 0\n",
    "    for i in range(2, lim + 1, 2):\n",
    "        currentSolutions = 0\n",
    "        for j in range(2, int(i / 3)):\n",
    "            if((i * (j - 2 * i)) % (2 * (j - i)) == 0):\n",
    "                currentSolutions += 1\n",
    "            if(maxSolutions < currentSolutions):\n",
    "                maxSolutions = currentSolutions\n",
    "                largestPer = i\n",
    "                    \n",
    "    return maxSolutions, largestPer"
   ]
  },
  {
   "cell_type": "code",
   "execution_count": 4,
   "metadata": {},
   "outputs": [
    {
     "data": {
      "text/plain": [
       "(3, 120)"
      ]
     },
     "execution_count": 4,
     "metadata": {},
     "output_type": "execute_result"
    }
   ],
   "source": [
    "rightTriangles(120)"
   ]
  },
  {
   "cell_type": "code",
   "execution_count": 5,
   "metadata": {},
   "outputs": [
    {
     "data": {
      "text/plain": [
       "(9, 840)"
      ]
     },
     "execution_count": 5,
     "metadata": {},
     "output_type": "execute_result"
    }
   ],
   "source": [
    "rightTriangles(1000)"
   ]
  },
  {
   "cell_type": "code",
   "execution_count": null,
   "metadata": {},
   "outputs": [],
   "source": []
  }
 ],
 "metadata": {
  "kernelspec": {
   "display_name": "Python 3",
   "language": "python",
   "name": "python3"
  },
  "language_info": {
   "codemirror_mode": {
    "name": "ipython",
    "version": 3
   },
   "file_extension": ".py",
   "mimetype": "text/x-python",
   "name": "python",
   "nbconvert_exporter": "python",
   "pygments_lexer": "ipython3",
   "version": "3.6.5"
  }
 },
 "nbformat": 4,
 "nbformat_minor": 2
}
